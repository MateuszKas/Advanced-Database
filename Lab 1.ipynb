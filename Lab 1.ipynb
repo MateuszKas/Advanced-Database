{
 "cells": [
  {
   "cell_type": "code",
   "execution_count": 87,
   "metadata": {},
   "outputs": [],
   "source": [
    "from math import sqrt\n",
    "from numpy.linalg import inv,det\n",
    "import math\n",
    "import numpy as np\n",
    "import matplotlib.pyplot as plt\n"
   ]
  },
  {
   "cell_type": "code",
   "execution_count": 40,
   "metadata": {},
   "outputs": [
    {
     "name": "stdout",
     "output_type": "stream",
     "text": [
      "k = 3280.7316257200923\n",
      "m = 4467\n",
      "l = 2j\n",
      "d = 7747.731625720093\n",
      "c = (7747.731625720093+2j)\n"
     ]
    }
   ],
   "source": [
    "#Exercise 1\n",
    "k=1240 * sqrt(7)\n",
    "print(\"k =\",k)\n",
    "m=4467\n",
    "print(\"m =\",m)\n",
    "l=2j\n",
    "print(\"l =\",l)\n",
    "d=k+m\n",
    "print(\"d =\",d)\n",
    "c=d+l\n",
    "print(\"c =\",c)"
   ]
  },
  {
   "cell_type": "code",
   "execution_count": 41,
   "metadata": {},
   "outputs": [
    {
     "name": "stdout",
     "output_type": "stream",
     "text": [
      "7747.731625720093\n",
      "7747.732\n",
      "7747.7316257200927794\n"
     ]
    }
   ],
   "source": [
    "#Exercise 2\n",
    "print(d)\n",
    "print(format(d,'.3f'))\n",
    "print(format(d, '.20g'))"
   ]
  },
  {
   "cell_type": "code",
   "execution_count": 42,
   "metadata": {},
   "outputs": [
    {
     "name": "stdout",
     "output_type": "stream",
     "text": [
      "5340.707511102649\n"
     ]
    }
   ],
   "source": [
    "#Exercise 3\n",
    "P= (2 * math.pi * 17 * 17) + 2*math.pi*17*33\n",
    "print(P)"
   ]
  },
  {
   "cell_type": "code",
   "execution_count": 43,
   "metadata": {},
   "outputs": [
    {
     "name": "stdout",
     "output_type": "stream",
     "text": [
      "2412.1359173602814\n"
     ]
    }
   ],
   "source": [
    "#Exercise 5\n",
    "x1=2\n",
    "t=3\n",
    "r=4\n",
    "\n",
    "B=((x1+r)/(r*math.sin(2*x1)+3.3456))*x1**(t+r)\n",
    "print(B)"
   ]
  },
  {
   "cell_type": "markdown",
   "metadata": {},
   "source": []
  },
  {
   "cell_type": "code",
   "execution_count": null,
   "metadata": {},
   "outputs": [],
   "source": []
  },
  {
   "cell_type": "code",
   "execution_count": 59,
   "metadata": {},
   "outputs": [
    {
     "name": "stdout",
     "output_type": "stream",
     "text": [
      "Matrix\n",
      "[[ 1.41421356  1.         -1.41421356]\n",
      " [ 0.          1.          1.        ]\n",
      " [-1.41421356  1.41421356  1.        ]]\n",
      "Invert Matrix\n",
      "[[ 0.10355339  0.75       -0.60355339]\n",
      " [ 0.35355339  0.14644661  0.35355339]\n",
      " [-0.35355339  0.85355339 -0.35355339]]\n",
      "Determinant\n",
      "-4.0\n",
      "Transposition\n",
      "[[ 1.41421356  0.         -1.41421356]\n",
      " [ 1.          1.          1.41421356]\n",
      " [-1.41421356  1.          1.        ]]\n"
     ]
    }
   ],
   "source": [
    "#Exercise 6\n",
    "a=math.sqrt(2)\n",
    "M=numpy.array([[a,1,-a],[0,1,1],[-a,a,1]])\n",
    "#Matrix\n",
    "print('Matrix')\n",
    "print(M)\n",
    "#Invert Matrix\n",
    "print('Invert Matrix')\n",
    "print(inv(M))\n",
    "#Determinant\n",
    "print('Determinant')\n",
    "print(det(M))\n",
    "#Transposition\n",
    "print('Transposition')\n",
    "print(M.T)"
   ]
  },
  {
   "cell_type": "code",
   "execution_count": 77,
   "metadata": {},
   "outputs": [
    {
     "name": "stdout",
     "output_type": "stream",
     "text": [
      "1.4142135623730951\n",
      "1.0\n",
      "1.4142135623730951\n",
      "w1\n",
      "[-1.41421356  1.          1.        ]\n",
      "w2\n",
      "[0. 1. 1.]\n"
     ]
    }
   ],
   "source": [
    "#Exercise 6\n",
    "print(M[0,0])\n",
    "print(M[2,2])\n",
    "print(M[2,1])\n",
    "w1=(M[:,2])\n",
    "w2=(M[1,:])\n",
    "#w1\n",
    "print('w1')\n",
    "print(format(w1))\n",
    "#w2\n",
    "print('w2')\n",
    "print(format(w2))"
   ]
  },
  {
   "cell_type": "code",
   "execution_count": 81,
   "metadata": {},
   "outputs": [
    {
     "name": "stdout",
     "output_type": "stream",
     "text": [
      "[ 5.  3.  2. -2. -1.]\n"
     ]
    }
   ],
   "source": [
    "#Exercise 7\n",
    "coeff = [1,-7,3,43,-28,-60]\n",
    "print(np.roots(coeff))"
   ]
  },
  {
   "cell_type": "code",
   "execution_count": 84,
   "metadata": {},
   "outputs": [
    {
     "name": "stdout",
     "output_type": "stream",
     "text": [
      "[3 5 7 9]\n",
      "[2.   2.25 2.5  2.75 3.  ]\n"
     ]
    }
   ],
   "source": [
    "#Exercise 8\n",
    "print(np.arange(3,11,2))\n",
    "print(np.linspace(2.0, 3.0, num=5))\n",
    "#In the first function we are declaring first element, last element and step between two elements. On the other hand in second function instead of step we are declaring number of elements which will appear between first and last element"
   ]
  },
  {
   "cell_type": "code",
   "execution_count": 93,
   "metadata": {},
   "outputs": [
    {
     "data": {
      "text/plain": [
       "[<matplotlib.lines.Line2D at 0x1d11bf1b7c8>]"
      ]
     },
     "execution_count": 93,
     "metadata": {},
     "output_type": "execute_result"
    },
    {
     "data": {
      "image/png": "[encoded data removed]",
      "text/plain": [
       "<Figure size 432x288 with 1 Axes>"
      ]
     },
     "metadata": {
      "needs_background": "light"
     },
     "output_type": "display_data"
    }
   ],
   "source": [
    "#Exercise 9\n",
    "x = np.linspace(-1,1,20)\n",
    "y = x**3 -3*x\n",
    "#plt.plot(x,y)\n",
    "x = np.linspace(-5,5,20)\n",
    "y = x**3 -3*x\n",
    "#plt.plot(x,y)\n",
    "x = np.linspace(0,5,20)\n",
    "y = x**3 -3*x\n",
    "plt.plot(x,y)"
   ]
  },
  {
   "cell_type": "code",
   "execution_count": 96,
   "metadata": {
    "scrolled": true
   },
   "outputs": [
    {
     "data": {
      "text/plain": [
       "[<matplotlib.lines.Line2D at 0x1d11bf7e908>]"
      ]
     },
     "execution_count": 96,
     "metadata": {},
     "output_type": "execute_result"
    },
    {
     "data": {
      "image/png": "[encoded data removed]",
      "text/plain": [
       "<Figure size 432x288 with 1 Axes>"
      ]
     },
     "metadata": {
      "needs_background": "light"
     },
     "output_type": "display_data"
    }
   ],
   "source": [
    "#Exercise 10\n",
    "m=2.5\n",
    "v=60\n",
    "Q=(m*v**2)/2\n",
    "v=(np.linspace(0.0, 200.0, num=100))\n",
    "m=3\n",
    "Q=(m*v**2)/2\n",
    "plt.plot(v,Q)"
   ]
  },
  {
   "cell_type": "code",
   "execution_count": 43,
   "metadata": {},
   "outputs": [
    {
     "name": "stdout",
     "output_type": "stream",
     "text": [
      "<bound method Quaterion.conjuction of <__main__.Quaterion object at 0x0000021506C70488>>\n"
     ]
    }
   ],
   "source": [
    "#Exercise 11\n",
    "class Quaterion:\n",
    "    def __init__(self,a=0,b=0,c=0,d=0):\n",
    "        self._a=a\n",
    "        self._b=b\n",
    "        self._c=c\n",
    "        self._d=d\n",
    "    def __str__(self):\n",
    "        return '{0}+{1}i+{2}j+{3}k'.format(self._a,self._b,self._c,self._d)\n",
    "        pass\n",
    "    def addition(self,another):    \n",
    "        return Quaterion(self._a+another._a,self._b+another._b,self._c+another._c,self._d+another._d)\n",
    "    def subtraction(self,another):    \n",
    "        return Quaterion(self._a-another._a,self._b-another._b,self._c-another._c,self._d-another._d)\n",
    "    def multiplication(self, another):\n",
    "        return Quaterion(self._a*another._a-self._b*another._b-self._c*another._c-self._d*another._d,self._a*another._b+self._b*another._a+self._c*another._d-self._d*another._c)\n",
    "    def division(self, another):\n",
    "        return Quaterion(((self._a*another._a+self._b*another._b+self._c*another._c+self._d*another._d)/(another._a**2+another._b**2+another._c**2+another._d**2)),((-self._a*another._b+self._b*another._a-self._c*another._d+self._d*another._c)/(another._a**2+another._b**2+another._c**2+another._d**2)),((-self._a*another._c+self._b*another._d+self._c*another._a+self._d*another._b)/(another._a**2+another._b**2+another._c**2+another._d**2)),((-self._a*another._d-self._b*another._c+self._c*another._b+self._d*another._a)/(another._a**2+another._b**2+another._c**2+another._d**2)))\n",
    "    def conjuction(self):\n",
    "        return Quaterion(self._a, -self._b, -self._c, -self._d)\n",
    "    def normalization(self):\n",
    "        return sqrt(self._a**2+self._b**2+self._c**2+self._d**2)\n",
    "q1=Quaterion(1,2,3,4)\n",
    "q2=Quaterion(0,0,1,0)\n",
    "print(q1.conjuction)\n"
   ]
  },
  {
   "cell_type": "code",
   "execution_count": null,
   "metadata": {},
   "outputs": [],
   "source": []
  },
  {
   "cell_type": "code",
   "execution_count": null,
   "metadata": {},
   "outputs": [],
   "source": []
  }
 ],
 "metadata": {
  "kernelspec": {
   "display_name": "Python 3",
   "language": "python",
   "name": "python3"
  },
  "language_info": {
   "codemirror_mode": {
    "name": "ipython",
    "version": 3
   },
   "file_extension": ".py",
   "mimetype": "text/x-python",
   "name": "python",
   "nbconvert_exporter": "python",
   "pygments_lexer": "ipython3",
   "version": "3.7.4"
  }
 },
 "nbformat": 4,
 "nbformat_minor": 2
}
